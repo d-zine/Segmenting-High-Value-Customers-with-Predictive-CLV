{
 "cells": [
  {
   "cell_type": "code",
   "execution_count": 1,
   "metadata": {},
   "outputs": [],
   "source": [
    "import json\n",
    "import pandas as pd\n",
    "import seaborn as sns\n",
    "import matplotlib.pyplot as plt\n",
    "import matplotlib.ticker as ticker\n",
    "from matplotlib.ticker import ScalarFormatter, FormatStrFormatter,StrMethodFormatter\n",
    "from matplotlib.ticker import FormatStrFormatter\n",
    "import numpy as np\n",
    "from sklearn.preprocessing import MultiLabelBinarizer\n",
    "from sklearn.model_selection import train_test_split\n",
    "from sklearn.cluster import KMeans\n",
    "import warnings\n",
    "from pandas.core.common import SettingWithCopyWarning"
   ]
  },
  {
   "cell_type": "code",
   "execution_count": 2,
   "metadata": {},
   "outputs": [],
   "source": [
    "portfolio = pd.read_json(r'C:\\Desktop\\portfolio.json', orient='records', lines=True)\n",
    "profile = pd.read_json(r'C:\\Desktop\\profile.json', orient='records', lines=True)\n",
    "transcript = pd.read_json(r'C:\\Desktop\\transcript.json', orient='records', lines=True)"
   ]
  },
  {
   "cell_type": "code",
   "execution_count": 3,
   "metadata": {},
   "outputs": [],
   "source": [
    "df=pd.DataFrame(transcript['value'].values.tolist(),index=transcript.index)"
   ]
  },
  {
   "cell_type": "code",
   "execution_count": 4,
   "metadata": {},
   "outputs": [],
   "source": [
    "transcript=transcript.merge(df,left_index=True, right_index=True)"
   ]
  },
  {
   "cell_type": "code",
   "execution_count": 5,
   "metadata": {},
   "outputs": [],
   "source": [
    "#one hot encode channels\n",
    "mlb = MultiLabelBinarizer()\n",
    "channel = pd.DataFrame(mlb.fit_transform(portfolio['channels']),columns=mlb.classes_, index=portfolio.index)"
   ]
  },
  {
   "cell_type": "code",
   "execution_count": 6,
   "metadata": {},
   "outputs": [
    {
     "data": {
      "text/html": [
       "<div>\n",
       "<style scoped>\n",
       "    .dataframe tbody tr th:only-of-type {\n",
       "        vertical-align: middle;\n",
       "    }\n",
       "\n",
       "    .dataframe tbody tr th {\n",
       "        vertical-align: top;\n",
       "    }\n",
       "\n",
       "    .dataframe thead th {\n",
       "        text-align: right;\n",
       "    }\n",
       "</style>\n",
       "<table border=\"1\" class=\"dataframe\">\n",
       "  <thead>\n",
       "    <tr style=\"text-align: right;\">\n",
       "      <th></th>\n",
       "      <th>gender</th>\n",
       "      <th>age</th>\n",
       "      <th>id</th>\n",
       "      <th>became_member_on</th>\n",
       "      <th>income</th>\n",
       "    </tr>\n",
       "  </thead>\n",
       "  <tbody>\n",
       "    <tr>\n",
       "      <th>0</th>\n",
       "      <td>None</td>\n",
       "      <td>118</td>\n",
       "      <td>68be06ca386d4c31939f3a4f0e3dd783</td>\n",
       "      <td>20170212</td>\n",
       "      <td>NaN</td>\n",
       "    </tr>\n",
       "    <tr>\n",
       "      <th>1</th>\n",
       "      <td>F</td>\n",
       "      <td>55</td>\n",
       "      <td>0610b486422d4921ae7d2bf64640c50b</td>\n",
       "      <td>20170715</td>\n",
       "      <td>112000.0</td>\n",
       "    </tr>\n",
       "    <tr>\n",
       "      <th>2</th>\n",
       "      <td>None</td>\n",
       "      <td>118</td>\n",
       "      <td>38fe809add3b4fcf9315a9694bb96ff5</td>\n",
       "      <td>20180712</td>\n",
       "      <td>NaN</td>\n",
       "    </tr>\n",
       "    <tr>\n",
       "      <th>3</th>\n",
       "      <td>F</td>\n",
       "      <td>75</td>\n",
       "      <td>78afa995795e4d85b5d9ceeca43f5fef</td>\n",
       "      <td>20170509</td>\n",
       "      <td>100000.0</td>\n",
       "    </tr>\n",
       "    <tr>\n",
       "      <th>4</th>\n",
       "      <td>None</td>\n",
       "      <td>118</td>\n",
       "      <td>a03223e636434f42ac4c3df47e8bac43</td>\n",
       "      <td>20170804</td>\n",
       "      <td>NaN</td>\n",
       "    </tr>\n",
       "  </tbody>\n",
       "</table>\n",
       "</div>"
      ],
      "text/plain": [
       "  gender  age                                id  became_member_on    income\n",
       "0   None  118  68be06ca386d4c31939f3a4f0e3dd783          20170212       NaN\n",
       "1      F   55  0610b486422d4921ae7d2bf64640c50b          20170715  112000.0\n",
       "2   None  118  38fe809add3b4fcf9315a9694bb96ff5          20180712       NaN\n",
       "3      F   75  78afa995795e4d85b5d9ceeca43f5fef          20170509  100000.0\n",
       "4   None  118  a03223e636434f42ac4c3df47e8bac43          20170804       NaN"
      ]
     },
     "execution_count": 6,
     "metadata": {},
     "output_type": "execute_result"
    }
   ],
   "source": [
    "profile.head()"
   ]
  },
  {
   "cell_type": "code",
   "execution_count": 7,
   "metadata": {},
   "outputs": [
    {
     "data": {
      "text/plain": [
       "17000"
      ]
     },
     "execution_count": 7,
     "metadata": {},
     "output_type": "execute_result"
    }
   ],
   "source": [
    "#there are 17000 users\n",
    "transcript['person'].nunique()"
   ]
  },
  {
   "cell_type": "code",
   "execution_count": 8,
   "metadata": {},
   "outputs": [],
   "source": [
    "#add column called week\n",
    "#event=transaction has an amount.\n",
    "order_events = transcript[transcript['event'].isin(['transaction'])]\n",
    "pd.set_option('display.max_columns', None)\n",
    "order_events = order_events.copy()\n",
    "order_events['week'] = (order_events['time'] // (24 * 7)) + 1\n",
    "order_events['day'] = order_events['time'] //  (24) + 1 "
   ]
  },
  {
   "cell_type": "code",
   "execution_count": 9,
   "metadata": {},
   "outputs": [
    {
     "data": {
      "text/plain": [
       "array([ 1,  2,  3,  4,  5,  6,  7,  8,  9, 10, 11, 12, 13, 14, 15],\n",
       "      dtype=int64)"
      ]
     },
     "execution_count": 9,
     "metadata": {},
     "output_type": "execute_result"
    }
   ],
   "source": [
    "order_events_day1to15 = order_events[order_events['day'].between(1, 15)]\n",
    "\n",
    "order_events_day1to15['day'].unique()"
   ]
  },
  {
   "cell_type": "code",
   "execution_count": 10,
   "metadata": {},
   "outputs": [],
   "source": [
    "# Group by person and find the maximum day\n",
    "max_day_by_user = order_events_day1to15.groupby('person')['day'].max().reset_index()\n",
    "\n",
    "day_15=15\n",
    "# Calculate recency\n",
    "max_day_by_user['recency'] = day_15 - max_day_by_user['day']\n",
    "\n",
    "# Merge with the order_events_day1to15 dataframe\n",
    "order_events_day1to15 = pd.merge(order_events_day1to15, max_day_by_user[['person', 'recency']], on='person')"
   ]
  },
  {
   "cell_type": "code",
   "execution_count": 11,
   "metadata": {},
   "outputs": [
    {
     "data": {
      "text/plain": [
       "array([ 6,  0,  1,  5, 14,  4, 10,  2,  3,  7, 12,  9,  8, 11, 13],\n",
       "      dtype=int64)"
      ]
     },
     "execution_count": 11,
     "metadata": {},
     "output_type": "execute_result"
    }
   ],
   "source": [
    "order_events_day1to15['recency'].unique()"
   ]
  },
  {
   "cell_type": "code",
   "execution_count": 12,
   "metadata": {},
   "outputs": [],
   "source": [
    "#filter users who made a purchase between day 1-15 greater than $0.\n",
    "order_events_day1to15 = order_events_day1to15.groupby('person').\\\n",
    "agg({'recency': 'first', 'event': 'size','amount': lambda x: x[x > 0].sum()\\\n",
    "    }).reset_index()\n",
    "# Rename columns\n",
    "order_events_day1to15.rename(columns={\n",
    "    'recency': 'Recency (# Days ago from last trans. As of final day up to Day 15)',\n",
    "    'event': 'Frequency (# Trans. from Day 1-15)',\n",
    "    'amount': 'Monetary Value (Sum of Trans. from Day 1-15)',\n",
    "}, inplace=True)"
   ]
  },
  {
   "cell_type": "code",
   "execution_count": 13,
   "metadata": {},
   "outputs": [
    {
     "name": "stdout",
     "output_type": "stream",
     "text": [
      "15042\n"
     ]
    }
   ],
   "source": [
    "unique_person_count = order_events_day1to15['person'].nunique()\n",
    "print(unique_person_count)"
   ]
  },
  {
   "cell_type": "code",
   "execution_count": 14,
   "metadata": {},
   "outputs": [],
   "source": [
    "order_events_day1to15=order_events_day1to15.merge(profile, left_on='person', right_on='id', how='left')"
   ]
  },
  {
   "cell_type": "code",
   "execution_count": 15,
   "metadata": {},
   "outputs": [],
   "source": [
    "order_events_day1to15.drop('id', axis=1, inplace=True)"
   ]
  },
  {
   "cell_type": "code",
   "execution_count": 16,
   "metadata": {},
   "outputs": [],
   "source": [
    "# Convert 'became_member_on' column to datetime format\n",
    "order_events_day1to15['became_member_on'] = pd.to_datetime(order_events_day1to15['became_member_on'], format='%Y%m%d')\n",
    "\n",
    "# Extract year from the 'became_member_on' column\n",
    "order_events_day1to15['member_year'] = order_events_day1to15['became_member_on'].dt.year\n",
    "order_events_day1to15=order_events_day1to15.drop('became_member_on', axis=1)"
   ]
  },
  {
   "cell_type": "code",
   "execution_count": 17,
   "metadata": {},
   "outputs": [],
   "source": [
    "order_events_day1to15['gender'].fillna('Unknown', inplace=True)\n",
    "order_events_day1to15['income'].fillna('Unknown', inplace=True)\n",
    "order_events_day1to15['age'].replace(118, 'Unknown', inplace=True)"
   ]
  },
  {
   "cell_type": "code",
   "execution_count": 18,
   "metadata": {},
   "outputs": [],
   "source": [
    "bins = [18, 35, 51, 68, 85, 102]\n",
    "labels = ['18-34', '35-50', '51-67', '68-84', '85-101']\n",
    "\n",
    "# Convert 'age' column to numeric\n",
    "order_events_day1to15['age'] = pd.to_numeric(order_events_day1to15['age'], errors='coerce')\n",
    "\n",
    "# Bin the 'age' column\n",
    "order_events_day1to15['age_group'] = pd.cut(order_events_day1to15['age'], bins=bins, labels=labels, right=False)"
   ]
  },
  {
   "cell_type": "code",
   "execution_count": 19,
   "metadata": {},
   "outputs": [],
   "source": [
    "bins= [30000,50001,75001,100001,120001]\n",
    "labels = ['30k-50k','50k-75k','75k-100k','100k-120k']\n",
    "# Convert column to numeric\n",
    "order_events_day1to15['income'] = pd.to_numeric(order_events_day1to15['income'], errors='coerce')\n",
    "\n",
    "order_events_day1to15['income_group']=pd.cut(order_events_day1to15['income'], bins=bins, labels=labels,right=False)"
   ]
  },
  {
   "cell_type": "code",
   "execution_count": 20,
   "metadata": {},
   "outputs": [],
   "source": [
    "order_events_day1to15=order_events_day1to15.drop(['age','income'], axis=1)"
   ]
  },
  {
   "cell_type": "code",
   "execution_count": 21,
   "metadata": {},
   "outputs": [],
   "source": [
    "#Create AOV column\n",
    "order_events_day1to15['Avg. Order Value (AOV) from Day 1-15 (Monetary Value/Frequency)'] = \\\n",
    "    round(order_events_day1to15['Monetary Value (Sum of Trans. from Day 1-15)'] / \\\n",
    "          order_events_day1to15['Frequency (# Trans. from Day 1-15)'],2)"
   ]
  },
  {
   "cell_type": "code",
   "execution_count": 22,
   "metadata": {},
   "outputs": [],
   "source": [
    "order_events_day1to15 = order_events_day1to15[['person','age_group', 'gender', 'income_group', 'member_year', \n",
    "                                               'Recency (# Days ago from last trans. As of final day up to Day 15)',\n",
    "                                               'Frequency (# Trans. from Day 1-15)',\n",
    "                                               'Monetary Value (Sum of Trans. from Day 1-15)',\n",
    "                                               'Avg. Order Value (AOV) from Day 1-15 (Monetary Value/Frequency)']]"
   ]
  },
  {
   "cell_type": "code",
   "execution_count": 23,
   "metadata": {},
   "outputs": [],
   "source": [
    "order_events_day1to15=order_events_day1to15.rename(columns={'person':'Customer ID',\n",
    "    'age_group': 'Age', 'gender': 'Gender', 'income_group': 'HH Income', 'member_year': 'MemberSince'})"
   ]
  },
  {
   "cell_type": "code",
   "execution_count": 24,
   "metadata": {},
   "outputs": [
    {
     "data": {
      "text/plain": [
       "array([16, 17, 18, 19, 20, 21, 22, 23, 24, 25, 26, 27, 28, 29, 30],\n",
       "      dtype=int64)"
      ]
     },
     "execution_count": 24,
     "metadata": {},
     "output_type": "execute_result"
    }
   ],
   "source": [
    "order_events_day16to30 = order_events[order_events['day'].between(16, 30)]\n",
    "order_events_day16to30['day'].unique()"
   ]
  },
  {
   "cell_type": "code",
   "execution_count": 25,
   "metadata": {},
   "outputs": [
    {
     "data": {
      "text/html": [
       "<div>\n",
       "<style scoped>\n",
       "    .dataframe tbody tr th:only-of-type {\n",
       "        vertical-align: middle;\n",
       "    }\n",
       "\n",
       "    .dataframe tbody tr th {\n",
       "        vertical-align: top;\n",
       "    }\n",
       "\n",
       "    .dataframe thead th {\n",
       "        text-align: right;\n",
       "    }\n",
       "</style>\n",
       "<table border=\"1\" class=\"dataframe\">\n",
       "  <thead>\n",
       "    <tr style=\"text-align: right;\">\n",
       "      <th></th>\n",
       "      <th>person</th>\n",
       "      <th>amount</th>\n",
       "    </tr>\n",
       "  </thead>\n",
       "  <tbody>\n",
       "    <tr>\n",
       "      <th>0</th>\n",
       "      <td>0009655768c64bdeb2e877511632db8f</td>\n",
       "      <td>105.44</td>\n",
       "    </tr>\n",
       "    <tr>\n",
       "      <th>1</th>\n",
       "      <td>00116118485d4dfda04fdbaba9a87b5c</td>\n",
       "      <td>3.39</td>\n",
       "    </tr>\n",
       "    <tr>\n",
       "      <th>2</th>\n",
       "      <td>0011e0d4e6b944f998e987f904e8c1e5</td>\n",
       "      <td>54.04</td>\n",
       "    </tr>\n",
       "    <tr>\n",
       "      <th>3</th>\n",
       "      <td>0020c2b971eb4e9188eac86d93036a77</td>\n",
       "      <td>98.53</td>\n",
       "    </tr>\n",
       "    <tr>\n",
       "      <th>4</th>\n",
       "      <td>0020ccbbb6d84e358d3414a3ff76cffd</td>\n",
       "      <td>91.19</td>\n",
       "    </tr>\n",
       "  </tbody>\n",
       "</table>\n",
       "</div>"
      ],
      "text/plain": [
       "                             person  amount\n",
       "0  0009655768c64bdeb2e877511632db8f  105.44\n",
       "1  00116118485d4dfda04fdbaba9a87b5c    3.39\n",
       "2  0011e0d4e6b944f998e987f904e8c1e5   54.04\n",
       "3  0020c2b971eb4e9188eac86d93036a77   98.53\n",
       "4  0020ccbbb6d84e358d3414a3ff76cffd   91.19"
      ]
     },
     "execution_count": 25,
     "metadata": {},
     "output_type": "execute_result"
    }
   ],
   "source": [
    "order_events_day16to30 = order_events_day16to30.groupby('person').\\\n",
    "agg({'amount': lambda x: x[x > 0].sum()}).reset_index()\n",
    "order_events_day16to30.head()"
   ]
  },
  {
   "cell_type": "code",
   "execution_count": 26,
   "metadata": {},
   "outputs": [],
   "source": [
    "sbux_clv = order_events_day1to15.merge(order_events_day16to30, left_on='Customer ID', right_on='person', how='left')"
   ]
  },
  {
   "cell_type": "code",
   "execution_count": 27,
   "metadata": {},
   "outputs": [],
   "source": [
    "sbux_clv['Age'] = sbux_clv['Age'].cat.add_categories('Unknown').fillna('Unknown')\n",
    "sbux_clv['HH Income'] = sbux_clv['HH Income'].cat.add_categories('Unknown').fillna('Unknown')\n",
    "sbux_clv = sbux_clv.drop('person', axis=1)"
   ]
  },
  {
   "cell_type": "code",
   "execution_count": 28,
   "metadata": {},
   "outputs": [],
   "source": [
    "sbux_clv=sbux_clv.rename(columns={'amount': 'Sum(Trans. Amt from Day 16-30)'})"
   ]
  },
  {
   "cell_type": "code",
   "execution_count": 29,
   "metadata": {},
   "outputs": [],
   "source": [
    "#event=offers_received\n",
    "order_events = transcript[transcript['event'].isin(['offer received'])]\n",
    "pd.set_option('display.max_columns', None)\n",
    "order_events = order_events.copy()\n",
    "order_events['week'] = (order_events['time'] // (24 * 7)) + 1\n",
    "order_events['day'] = order_events['time'] //  (24) + 1 "
   ]
  },
  {
   "cell_type": "code",
   "execution_count": 30,
   "metadata": {},
   "outputs": [
    {
     "data": {
      "text/plain": [
       "array([ 1,  8, 15], dtype=int64)"
      ]
     },
     "execution_count": 30,
     "metadata": {},
     "output_type": "execute_result"
    }
   ],
   "source": [
    "order_events_day1to15 = order_events[order_events['day'].between(1, 15)]\n",
    "\n",
    "order_events_day1to15['day'].unique()"
   ]
  },
  {
   "cell_type": "code",
   "execution_count": 31,
   "metadata": {},
   "outputs": [],
   "source": [
    "#count number of offer received by person from Day 1-15\n",
    "offer_received_counts = order_events_day1to15[order_events_day1to15['event'] == 'offer received']['person'].value_counts().to_frame().reset_index()\n",
    "offer_received_counts.columns = ['person', 'offer_received_count']"
   ]
  },
  {
   "cell_type": "code",
   "execution_count": 32,
   "metadata": {},
   "outputs": [],
   "source": [
    "#event=offer completed\n",
    "order_events = transcript[transcript['event'].isin(['offer completed'])]\n",
    "pd.set_option('display.max_columns', None)\n",
    "order_events = order_events.copy()\n",
    "order_events['week'] = (order_events['time'] // (24 * 7)) + 1\n",
    "order_events['day'] = order_events['time'] //  (24) + 1 "
   ]
  },
  {
   "cell_type": "code",
   "execution_count": 33,
   "metadata": {},
   "outputs": [
    {
     "data": {
      "text/plain": [
       "array([ 1,  2,  3,  4,  5,  6,  7,  8,  9, 10, 11, 12, 13, 14, 15],\n",
       "      dtype=int64)"
      ]
     },
     "execution_count": 33,
     "metadata": {},
     "output_type": "execute_result"
    }
   ],
   "source": [
    "order_events_day1to15 = order_events[order_events['day'].between(1, 15)]\n",
    "order_events_day1to15['day'].unique()"
   ]
  },
  {
   "cell_type": "code",
   "execution_count": 34,
   "metadata": {},
   "outputs": [],
   "source": [
    "#count number of offer completed by person from Day 1-15\n",
    "offer_completed_count = order_events_day1to15[order_events_day1to15['event'] == 'offer completed']['person'].value_counts().to_frame().reset_index()\n",
    "offer_completed_count.columns = ['person', 'offer_completed_count']"
   ]
  },
  {
   "cell_type": "code",
   "execution_count": 35,
   "metadata": {},
   "outputs": [],
   "source": [
    "#event=offer viewed\n",
    "order_events = transcript[transcript['event'].isin(['offer viewed'])]\n",
    "pd.set_option('display.max_columns', None)\n",
    "order_events = order_events.copy()\n",
    "order_events['week'] = (order_events['time'] // (24 * 7)) + 1\n",
    "order_events['day'] = order_events['time'] //  (24) + 1 "
   ]
  },
  {
   "cell_type": "code",
   "execution_count": 36,
   "metadata": {},
   "outputs": [
    {
     "data": {
      "text/plain": [
       "array([ 1,  2,  3,  4,  5,  6,  7,  8,  9, 10, 11, 12, 13, 14, 15],\n",
       "      dtype=int64)"
      ]
     },
     "execution_count": 36,
     "metadata": {},
     "output_type": "execute_result"
    }
   ],
   "source": [
    "order_events_day1to15 = order_events[order_events['day'].between(1, 15)]\n",
    "order_events_day1to15['day'].unique()"
   ]
  },
  {
   "cell_type": "code",
   "execution_count": 37,
   "metadata": {},
   "outputs": [],
   "source": [
    "#count number of offer viewed by person from Day 1-15\n",
    "offer_viewed_count = order_events_day1to15[order_events_day1to15['event'] == 'offer viewed']['person'].value_counts().to_frame().reset_index()\n",
    "offer_viewed_count.columns = ['person', 'offer_viewed_count']"
   ]
  },
  {
   "cell_type": "code",
   "execution_count": 38,
   "metadata": {},
   "outputs": [],
   "source": [
    "# Left join with offer_received_counts\n",
    "sbux_clv_with_received = pd.merge(sbux_clv, offer_received_counts, left_on='Customer ID', right_on='person', how='left')"
   ]
  },
  {
   "cell_type": "code",
   "execution_count": 39,
   "metadata": {},
   "outputs": [],
   "source": [
    "#check\n",
    "sbux_clv_with_received = sbux_clv_with_received.drop(['person'], axis=1)"
   ]
  },
  {
   "cell_type": "code",
   "execution_count": 40,
   "metadata": {},
   "outputs": [],
   "source": [
    "# Left join with offer_completed_count\n",
    "sbux_clv_with_received_completed = pd.merge(sbux_clv_with_received, offer_completed_count, left_on='Customer ID', \n",
    "                                            right_on='person', how='left')"
   ]
  },
  {
   "cell_type": "code",
   "execution_count": 41,
   "metadata": {},
   "outputs": [],
   "source": [
    "#check\n",
    "sbux_clv_with_received_completed = sbux_clv_with_received_completed.drop(['person'], axis=1)"
   ]
  },
  {
   "cell_type": "code",
   "execution_count": 42,
   "metadata": {},
   "outputs": [],
   "source": [
    "sbux_clv_with_received_completed['Marketing Offer Response Rate from Day 1-15'] = \\\n",
    "round(sbux_clv_with_received_completed['offer_completed_count'].fillna(0) / sbux_clv_with_received_completed['offer_received_count'].replace(0, float('nan')),2)"
   ]
  },
  {
   "cell_type": "code",
   "execution_count": 43,
   "metadata": {},
   "outputs": [],
   "source": [
    "# Left join with offer_viewed_count\n",
    "sbux_clv_with_viewed_completed = pd.merge(sbux_clv_with_received_completed, offer_viewed_count, left_on='Customer ID', \n",
    "                                            right_on='person', how='left')\n",
    "\n",
    "sbux_clv_with_viewed_completed['Marketing Offer View Rate from Day 1-15'] = \\\n",
    "round(sbux_clv_with_viewed_completed['offer_viewed_count'].fillna(0) / sbux_clv_with_viewed_completed['offer_received_count'].replace(0, float('nan')),2)\n",
    "\n",
    "#check\n",
    "sbux_clv_with_viewed_completed = sbux_clv_with_viewed_completed.drop(['person'], axis=1)"
   ]
  },
  {
   "cell_type": "code",
   "execution_count": 44,
   "metadata": {},
   "outputs": [],
   "source": [
    "sbux_clv_with_viewed_completed = sbux_clv_with_viewed_completed.rename(columns={\n",
    "    'offer_received_count': '# of Marketing offers that Starbucks sent to each customer from Day 1-15',\n",
    "    'offer_completed_count': '# of Marketing offers that were successfully completed from Day 1-15',\n",
    "    'offer_viewed_count': '# of Marketing offers that were viewed from Day 1-15'\n",
    "})\n",
    "#not everyone received an offer in the first 15 days\n",
    "#not everyone viewed an offer in the first 15 days\n",
    "#not everyone completed an offer in the first 15 days"
   ]
  },
  {
   "cell_type": "code",
   "execution_count": 45,
   "metadata": {},
   "outputs": [],
   "source": [
    "portfolio=portfolio.merge(channel,left_index=True, right_index=True)"
   ]
  },
  {
   "cell_type": "code",
   "execution_count": 46,
   "metadata": {},
   "outputs": [],
   "source": [
    "#offer received by channel\n",
    "transcript=transcript.merge(portfolio, left_on='offer_id', right_on='id', how='left')"
   ]
  },
  {
   "cell_type": "code",
   "execution_count": 47,
   "metadata": {},
   "outputs": [],
   "source": [
    "order_events = transcript[transcript['event'].isin(['offer completed'])]\n",
    "pd.set_option('display.max_columns', None)\n",
    "order_events = order_events.copy()\n",
    "order_events['week'] = (order_events['time'] // (24 * 7)) + 1\n",
    "order_events['day'] = order_events['time'] //  (24) + 1 "
   ]
  },
  {
   "cell_type": "code",
   "execution_count": 48,
   "metadata": {},
   "outputs": [
    {
     "data": {
      "text/plain": [
       "array([ 1,  2,  3,  4,  5,  6,  7,  8,  9, 10, 11, 12, 13, 14, 15],\n",
       "      dtype=int64)"
      ]
     },
     "execution_count": 48,
     "metadata": {},
     "output_type": "execute_result"
    }
   ],
   "source": [
    "order_events_day1to15 = order_events[order_events['day'].between(1, 15)]\n",
    "\n",
    "order_events_day1to15['day'].unique()"
   ]
  },
  {
   "cell_type": "code",
   "execution_count": 49,
   "metadata": {},
   "outputs": [],
   "source": [
    "order_events_day1to15=order_events_day1to15.groupby('person')[['email', 'mobile', 'social', 'web']].sum().reset_index()"
   ]
  },
  {
   "cell_type": "code",
   "execution_count": 50,
   "metadata": {},
   "outputs": [],
   "source": [
    "order_events_day1to15.rename(columns={'email': 'Count of Completed offers using Email channel from Day 1-15',\n",
    "                   'mobile': 'Count of Completed offers using Mobile channel from Day 1-15',\n",
    "                   'social': 'Count of Completed offers using Social channel from Day 1-15',\n",
    "                   'web': 'Count of Completed offers using Web channel from Day 1-15'}, inplace=True)\n",
    "sbux_clv_with_viewed_completed_channel = sbux_clv_with_viewed_completed.merge(order_events_day1to15, left_on='Customer ID', right_on='person', how='left')"
   ]
  },
  {
   "cell_type": "code",
   "execution_count": 51,
   "metadata": {},
   "outputs": [],
   "source": [
    "sbux_clv_with_viewed_completed_channel=sbux_clv_with_viewed_completed_channel.drop('person', axis=1)"
   ]
  },
  {
   "cell_type": "code",
   "execution_count": 52,
   "metadata": {},
   "outputs": [
    {
     "data": {
      "text/html": [
       "<div>\n",
       "<style scoped>\n",
       "    .dataframe tbody tr th:only-of-type {\n",
       "        vertical-align: middle;\n",
       "    }\n",
       "\n",
       "    .dataframe tbody tr th {\n",
       "        vertical-align: top;\n",
       "    }\n",
       "\n",
       "    .dataframe thead th {\n",
       "        text-align: right;\n",
       "    }\n",
       "</style>\n",
       "<table border=\"1\" class=\"dataframe\">\n",
       "  <thead>\n",
       "    <tr style=\"text-align: right;\">\n",
       "      <th></th>\n",
       "      <th>Customer ID</th>\n",
       "      <th>Age</th>\n",
       "      <th>Gender</th>\n",
       "      <th>HH Income</th>\n",
       "      <th>MemberSince</th>\n",
       "      <th>Recency (# Days ago from last trans. As of final day up to Day 15)</th>\n",
       "      <th>Frequency (# Trans. from Day 1-15)</th>\n",
       "      <th>Monetary Value (Sum of Trans. from Day 1-15)</th>\n",
       "      <th>Avg. Order Value (AOV) from Day 1-15 (Monetary Value/Frequency)</th>\n",
       "      <th># of Marketing offers that Starbucks sent to each customer from Day 1-15</th>\n",
       "      <th># of Marketing offers that were viewed from Day 1-15</th>\n",
       "      <th># of Marketing offers that were successfully completed from Day 1-15</th>\n",
       "      <th>Marketing Offer View Rate from Day 1-15</th>\n",
       "      <th>Marketing Offer Response Rate from Day 1-15</th>\n",
       "      <th>Count of Completed offers using Email channel from Day 1-15</th>\n",
       "      <th>Count of Completed offers using Mobile channel from Day 1-15</th>\n",
       "      <th>Count of Completed offers using Social channel from Day 1-15</th>\n",
       "      <th>Count of Completed offers using Web channel from Day 1-15</th>\n",
       "      <th>Sum(Trans. Amt from Day 16-30)</th>\n",
       "    </tr>\n",
       "  </thead>\n",
       "  <tbody>\n",
       "    <tr>\n",
       "      <th>0</th>\n",
       "      <td>0009655768c64bdeb2e877511632db8f</td>\n",
       "      <td>18-34</td>\n",
       "      <td>M</td>\n",
       "      <td>50k-75k</td>\n",
       "      <td>2017</td>\n",
       "      <td>5</td>\n",
       "      <td>1</td>\n",
       "      <td>22.16</td>\n",
       "      <td>22.16</td>\n",
       "      <td>2.0</td>\n",
       "      <td>1.0</td>\n",
       "      <td>NaN</td>\n",
       "      <td>0.50</td>\n",
       "      <td>0.00</td>\n",
       "      <td>NaN</td>\n",
       "      <td>NaN</td>\n",
       "      <td>NaN</td>\n",
       "      <td>NaN</td>\n",
       "      <td>105.44</td>\n",
       "    </tr>\n",
       "    <tr>\n",
       "      <th>1</th>\n",
       "      <td>00116118485d4dfda04fdbaba9a87b5c</td>\n",
       "      <td>Unknown</td>\n",
       "      <td>Unknown</td>\n",
       "      <td>Unknown</td>\n",
       "      <td>2018</td>\n",
       "      <td>2</td>\n",
       "      <td>1</td>\n",
       "      <td>0.70</td>\n",
       "      <td>0.70</td>\n",
       "      <td>1.0</td>\n",
       "      <td>1.0</td>\n",
       "      <td>NaN</td>\n",
       "      <td>1.00</td>\n",
       "      <td>0.00</td>\n",
       "      <td>NaN</td>\n",
       "      <td>NaN</td>\n",
       "      <td>NaN</td>\n",
       "      <td>NaN</td>\n",
       "      <td>3.39</td>\n",
       "    </tr>\n",
       "    <tr>\n",
       "      <th>2</th>\n",
       "      <td>0011e0d4e6b944f998e987f904e8c1e5</td>\n",
       "      <td>35-50</td>\n",
       "      <td>O</td>\n",
       "      <td>50k-75k</td>\n",
       "      <td>2018</td>\n",
       "      <td>4</td>\n",
       "      <td>2</td>\n",
       "      <td>25.42</td>\n",
       "      <td>12.71</td>\n",
       "      <td>3.0</td>\n",
       "      <td>3.0</td>\n",
       "      <td>1.0</td>\n",
       "      <td>1.00</td>\n",
       "      <td>0.33</td>\n",
       "      <td>1.0</td>\n",
       "      <td>1.0</td>\n",
       "      <td>1.0</td>\n",
       "      <td>1.0</td>\n",
       "      <td>54.04</td>\n",
       "    </tr>\n",
       "    <tr>\n",
       "      <th>3</th>\n",
       "      <td>0020c2b971eb4e9188eac86d93036a77</td>\n",
       "      <td>51-67</td>\n",
       "      <td>F</td>\n",
       "      <td>75k-100k</td>\n",
       "      <td>2016</td>\n",
       "      <td>8</td>\n",
       "      <td>4</td>\n",
       "      <td>98.33</td>\n",
       "      <td>24.58</td>\n",
       "      <td>3.0</td>\n",
       "      <td>1.0</td>\n",
       "      <td>1.0</td>\n",
       "      <td>0.33</td>\n",
       "      <td>0.33</td>\n",
       "      <td>1.0</td>\n",
       "      <td>1.0</td>\n",
       "      <td>1.0</td>\n",
       "      <td>1.0</td>\n",
       "      <td>98.53</td>\n",
       "    </tr>\n",
       "    <tr>\n",
       "      <th>4</th>\n",
       "      <td>0020ccbbb6d84e358d3414a3ff76cffd</td>\n",
       "      <td>18-34</td>\n",
       "      <td>F</td>\n",
       "      <td>50k-75k</td>\n",
       "      <td>2016</td>\n",
       "      <td>2</td>\n",
       "      <td>5</td>\n",
       "      <td>62.86</td>\n",
       "      <td>12.57</td>\n",
       "      <td>2.0</td>\n",
       "      <td>2.0</td>\n",
       "      <td>1.0</td>\n",
       "      <td>1.00</td>\n",
       "      <td>0.50</td>\n",
       "      <td>1.0</td>\n",
       "      <td>1.0</td>\n",
       "      <td>1.0</td>\n",
       "      <td>1.0</td>\n",
       "      <td>91.19</td>\n",
       "    </tr>\n",
       "    <tr>\n",
       "      <th>...</th>\n",
       "      <td>...</td>\n",
       "      <td>...</td>\n",
       "      <td>...</td>\n",
       "      <td>...</td>\n",
       "      <td>...</td>\n",
       "      <td>...</td>\n",
       "      <td>...</td>\n",
       "      <td>...</td>\n",
       "      <td>...</td>\n",
       "      <td>...</td>\n",
       "      <td>...</td>\n",
       "      <td>...</td>\n",
       "      <td>...</td>\n",
       "      <td>...</td>\n",
       "      <td>...</td>\n",
       "      <td>...</td>\n",
       "      <td>...</td>\n",
       "      <td>...</td>\n",
       "      <td>...</td>\n",
       "    </tr>\n",
       "    <tr>\n",
       "      <th>15037</th>\n",
       "      <td>fff3ba4757bd42088c044ca26d73817a</td>\n",
       "      <td>68-84</td>\n",
       "      <td>F</td>\n",
       "      <td>75k-100k</td>\n",
       "      <td>2015</td>\n",
       "      <td>1</td>\n",
       "      <td>8</td>\n",
       "      <td>148.84</td>\n",
       "      <td>18.60</td>\n",
       "      <td>3.0</td>\n",
       "      <td>2.0</td>\n",
       "      <td>2.0</td>\n",
       "      <td>0.67</td>\n",
       "      <td>0.67</td>\n",
       "      <td>2.0</td>\n",
       "      <td>2.0</td>\n",
       "      <td>1.0</td>\n",
       "      <td>2.0</td>\n",
       "      <td>432.14</td>\n",
       "    </tr>\n",
       "    <tr>\n",
       "      <th>15038</th>\n",
       "      <td>fff7576017104bcc8677a8d63322b5e1</td>\n",
       "      <td>68-84</td>\n",
       "      <td>M</td>\n",
       "      <td>50k-75k</td>\n",
       "      <td>2017</td>\n",
       "      <td>3</td>\n",
       "      <td>3</td>\n",
       "      <td>16.05</td>\n",
       "      <td>5.35</td>\n",
       "      <td>2.0</td>\n",
       "      <td>2.0</td>\n",
       "      <td>1.0</td>\n",
       "      <td>1.00</td>\n",
       "      <td>0.50</td>\n",
       "      <td>1.0</td>\n",
       "      <td>1.0</td>\n",
       "      <td>1.0</td>\n",
       "      <td>1.0</td>\n",
       "      <td>13.89</td>\n",
       "    </tr>\n",
       "    <tr>\n",
       "      <th>15039</th>\n",
       "      <td>fff8957ea8b240a6b5e634b6ee8eafcf</td>\n",
       "      <td>68-84</td>\n",
       "      <td>M</td>\n",
       "      <td>50k-75k</td>\n",
       "      <td>2018</td>\n",
       "      <td>14</td>\n",
       "      <td>1</td>\n",
       "      <td>0.64</td>\n",
       "      <td>0.64</td>\n",
       "      <td>NaN</td>\n",
       "      <td>NaN</td>\n",
       "      <td>NaN</td>\n",
       "      <td>NaN</td>\n",
       "      <td>NaN</td>\n",
       "      <td>NaN</td>\n",
       "      <td>NaN</td>\n",
       "      <td>NaN</td>\n",
       "      <td>NaN</td>\n",
       "      <td>11.51</td>\n",
       "    </tr>\n",
       "    <tr>\n",
       "      <th>15040</th>\n",
       "      <td>fffad4f4828548d1b5583907f2e9906b</td>\n",
       "      <td>18-34</td>\n",
       "      <td>M</td>\n",
       "      <td>30k-50k</td>\n",
       "      <td>2017</td>\n",
       "      <td>1</td>\n",
       "      <td>7</td>\n",
       "      <td>42.50</td>\n",
       "      <td>6.07</td>\n",
       "      <td>2.0</td>\n",
       "      <td>2.0</td>\n",
       "      <td>1.0</td>\n",
       "      <td>1.00</td>\n",
       "      <td>0.50</td>\n",
       "      <td>1.0</td>\n",
       "      <td>1.0</td>\n",
       "      <td>1.0</td>\n",
       "      <td>1.0</td>\n",
       "      <td>46.33</td>\n",
       "    </tr>\n",
       "    <tr>\n",
       "      <th>15041</th>\n",
       "      <td>ffff82501cea40309d5fdd7edcca4a07</td>\n",
       "      <td>35-50</td>\n",
       "      <td>F</td>\n",
       "      <td>50k-75k</td>\n",
       "      <td>2016</td>\n",
       "      <td>1</td>\n",
       "      <td>8</td>\n",
       "      <td>128.73</td>\n",
       "      <td>16.09</td>\n",
       "      <td>3.0</td>\n",
       "      <td>3.0</td>\n",
       "      <td>2.0</td>\n",
       "      <td>1.00</td>\n",
       "      <td>0.67</td>\n",
       "      <td>2.0</td>\n",
       "      <td>1.0</td>\n",
       "      <td>1.0</td>\n",
       "      <td>2.0</td>\n",
       "      <td>97.34</td>\n",
       "    </tr>\n",
       "  </tbody>\n",
       "</table>\n",
       "<p>15042 rows × 19 columns</p>\n",
       "</div>"
      ],
      "text/plain": [
       "                            Customer ID      Age   Gender HH Income  \\\n",
       "0      0009655768c64bdeb2e877511632db8f    18-34        M   50k-75k   \n",
       "1      00116118485d4dfda04fdbaba9a87b5c  Unknown  Unknown   Unknown   \n",
       "2      0011e0d4e6b944f998e987f904e8c1e5    35-50        O   50k-75k   \n",
       "3      0020c2b971eb4e9188eac86d93036a77    51-67        F  75k-100k   \n",
       "4      0020ccbbb6d84e358d3414a3ff76cffd    18-34        F   50k-75k   \n",
       "...                                 ...      ...      ...       ...   \n",
       "15037  fff3ba4757bd42088c044ca26d73817a    68-84        F  75k-100k   \n",
       "15038  fff7576017104bcc8677a8d63322b5e1    68-84        M   50k-75k   \n",
       "15039  fff8957ea8b240a6b5e634b6ee8eafcf    68-84        M   50k-75k   \n",
       "15040  fffad4f4828548d1b5583907f2e9906b    18-34        M   30k-50k   \n",
       "15041  ffff82501cea40309d5fdd7edcca4a07    35-50        F   50k-75k   \n",
       "\n",
       "       MemberSince  \\\n",
       "0             2017   \n",
       "1             2018   \n",
       "2             2018   \n",
       "3             2016   \n",
       "4             2016   \n",
       "...            ...   \n",
       "15037         2015   \n",
       "15038         2017   \n",
       "15039         2018   \n",
       "15040         2017   \n",
       "15041         2016   \n",
       "\n",
       "       Recency (# Days ago from last trans. As of final day up to Day 15)  \\\n",
       "0                                                      5                    \n",
       "1                                                      2                    \n",
       "2                                                      4                    \n",
       "3                                                      8                    \n",
       "4                                                      2                    \n",
       "...                                                  ...                    \n",
       "15037                                                  1                    \n",
       "15038                                                  3                    \n",
       "15039                                                 14                    \n",
       "15040                                                  1                    \n",
       "15041                                                  1                    \n",
       "\n",
       "       Frequency (# Trans. from Day 1-15)  \\\n",
       "0                                       1   \n",
       "1                                       1   \n",
       "2                                       2   \n",
       "3                                       4   \n",
       "4                                       5   \n",
       "...                                   ...   \n",
       "15037                                   8   \n",
       "15038                                   3   \n",
       "15039                                   1   \n",
       "15040                                   7   \n",
       "15041                                   8   \n",
       "\n",
       "       Monetary Value (Sum of Trans. from Day 1-15)  \\\n",
       "0                                             22.16   \n",
       "1                                              0.70   \n",
       "2                                             25.42   \n",
       "3                                             98.33   \n",
       "4                                             62.86   \n",
       "...                                             ...   \n",
       "15037                                        148.84   \n",
       "15038                                         16.05   \n",
       "15039                                          0.64   \n",
       "15040                                         42.50   \n",
       "15041                                        128.73   \n",
       "\n",
       "       Avg. Order Value (AOV) from Day 1-15 (Monetary Value/Frequency)  \\\n",
       "0                                                  22.16                 \n",
       "1                                                   0.70                 \n",
       "2                                                  12.71                 \n",
       "3                                                  24.58                 \n",
       "4                                                  12.57                 \n",
       "...                                                  ...                 \n",
       "15037                                              18.60                 \n",
       "15038                                               5.35                 \n",
       "15039                                               0.64                 \n",
       "15040                                               6.07                 \n",
       "15041                                              16.09                 \n",
       "\n",
       "       # of Marketing offers that Starbucks sent to each customer from Day 1-15  \\\n",
       "0                                                    2.0                          \n",
       "1                                                    1.0                          \n",
       "2                                                    3.0                          \n",
       "3                                                    3.0                          \n",
       "4                                                    2.0                          \n",
       "...                                                  ...                          \n",
       "15037                                                3.0                          \n",
       "15038                                                2.0                          \n",
       "15039                                                NaN                          \n",
       "15040                                                2.0                          \n",
       "15041                                                3.0                          \n",
       "\n",
       "       # of Marketing offers that were viewed from Day 1-15  \\\n",
       "0                                                    1.0      \n",
       "1                                                    1.0      \n",
       "2                                                    3.0      \n",
       "3                                                    1.0      \n",
       "4                                                    2.0      \n",
       "...                                                  ...      \n",
       "15037                                                2.0      \n",
       "15038                                                2.0      \n",
       "15039                                                NaN      \n",
       "15040                                                2.0      \n",
       "15041                                                3.0      \n",
       "\n",
       "       # of Marketing offers that were successfully completed from Day 1-15  \\\n",
       "0                                                    NaN                      \n",
       "1                                                    NaN                      \n",
       "2                                                    1.0                      \n",
       "3                                                    1.0                      \n",
       "4                                                    1.0                      \n",
       "...                                                  ...                      \n",
       "15037                                                2.0                      \n",
       "15038                                                1.0                      \n",
       "15039                                                NaN                      \n",
       "15040                                                1.0                      \n",
       "15041                                                2.0                      \n",
       "\n",
       "       Marketing Offer View Rate from Day 1-15  \\\n",
       "0                                         0.50   \n",
       "1                                         1.00   \n",
       "2                                         1.00   \n",
       "3                                         0.33   \n",
       "4                                         1.00   \n",
       "...                                        ...   \n",
       "15037                                     0.67   \n",
       "15038                                     1.00   \n",
       "15039                                      NaN   \n",
       "15040                                     1.00   \n",
       "15041                                     1.00   \n",
       "\n",
       "       Marketing Offer Response Rate from Day 1-15  \\\n",
       "0                                             0.00   \n",
       "1                                             0.00   \n",
       "2                                             0.33   \n",
       "3                                             0.33   \n",
       "4                                             0.50   \n",
       "...                                            ...   \n",
       "15037                                         0.67   \n",
       "15038                                         0.50   \n",
       "15039                                          NaN   \n",
       "15040                                         0.50   \n",
       "15041                                         0.67   \n",
       "\n",
       "       Count of Completed offers using Email channel from Day 1-15  \\\n",
       "0                                                    NaN             \n",
       "1                                                    NaN             \n",
       "2                                                    1.0             \n",
       "3                                                    1.0             \n",
       "4                                                    1.0             \n",
       "...                                                  ...             \n",
       "15037                                                2.0             \n",
       "15038                                                1.0             \n",
       "15039                                                NaN             \n",
       "15040                                                1.0             \n",
       "15041                                                2.0             \n",
       "\n",
       "       Count of Completed offers using Mobile channel from Day 1-15  \\\n",
       "0                                                    NaN              \n",
       "1                                                    NaN              \n",
       "2                                                    1.0              \n",
       "3                                                    1.0              \n",
       "4                                                    1.0              \n",
       "...                                                  ...              \n",
       "15037                                                2.0              \n",
       "15038                                                1.0              \n",
       "15039                                                NaN              \n",
       "15040                                                1.0              \n",
       "15041                                                1.0              \n",
       "\n",
       "       Count of Completed offers using Social channel from Day 1-15  \\\n",
       "0                                                    NaN              \n",
       "1                                                    NaN              \n",
       "2                                                    1.0              \n",
       "3                                                    1.0              \n",
       "4                                                    1.0              \n",
       "...                                                  ...              \n",
       "15037                                                1.0              \n",
       "15038                                                1.0              \n",
       "15039                                                NaN              \n",
       "15040                                                1.0              \n",
       "15041                                                1.0              \n",
       "\n",
       "       Count of Completed offers using Web channel from Day 1-15  \\\n",
       "0                                                    NaN           \n",
       "1                                                    NaN           \n",
       "2                                                    1.0           \n",
       "3                                                    1.0           \n",
       "4                                                    1.0           \n",
       "...                                                  ...           \n",
       "15037                                                2.0           \n",
       "15038                                                1.0           \n",
       "15039                                                NaN           \n",
       "15040                                                1.0           \n",
       "15041                                                2.0           \n",
       "\n",
       "       Sum(Trans. Amt from Day 16-30)  \n",
       "0                              105.44  \n",
       "1                                3.39  \n",
       "2                               54.04  \n",
       "3                               98.53  \n",
       "4                               91.19  \n",
       "...                               ...  \n",
       "15037                          432.14  \n",
       "15038                           13.89  \n",
       "15039                           11.51  \n",
       "15040                           46.33  \n",
       "15041                           97.34  \n",
       "\n",
       "[15042 rows x 19 columns]"
      ]
     },
     "execution_count": 52,
     "metadata": {},
     "output_type": "execute_result"
    }
   ],
   "source": [
    "sbux_clv_with_viewed_completed_channel=sbux_clv_with_viewed_completed_channel[['Customer ID','Age','Gender','HH Income','MemberSince',\n",
    "                                               'Recency (# Days ago from last trans. As of final day up to Day 15)',\n",
    "                                               'Frequency (# Trans. from Day 1-15)',\n",
    "                                               'Monetary Value (Sum of Trans. from Day 1-15)',\n",
    "                                               'Avg. Order Value (AOV) from Day 1-15 (Monetary Value/Frequency)',\n",
    "                                     '# of Marketing offers that Starbucks sent to each customer from Day 1-15',\n",
    "                                     '# of Marketing offers that were viewed from Day 1-15',                                              \n",
    "                                     '# of Marketing offers that were successfully completed from Day 1-15',\n",
    "                                     'Marketing Offer View Rate from Day 1-15',\n",
    "                                     'Marketing Offer Response Rate from Day 1-15',\n",
    "                                     'Count of Completed offers using Email channel from Day 1-15',\n",
    "                                     'Count of Completed offers using Mobile channel from Day 1-15',\n",
    "                                     'Count of Completed offers using Social channel from Day 1-15',\n",
    "                                     'Count of Completed offers using Web channel from Day 1-15',\n",
    "                                     'Sum(Trans. Amt from Day 16-30)']]\n",
    "sbux_clv_with_viewed_completed_channel"
   ]
  },
  {
   "cell_type": "code",
   "execution_count": 53,
   "metadata": {},
   "outputs": [],
   "source": [
    "sbux_clv_with_viewed_completed_channel.to_csv(r'C:\\Desktop\\sbux_clv_with_viewed_completed_channel.csv', index=False)"
   ]
  }
 ],
 "metadata": {
  "kernelspec": {
   "display_name": "Python 3",
   "language": "python",
   "name": "python3"
  },
  "language_info": {
   "codemirror_mode": {
    "name": "ipython",
    "version": 3
   },
   "file_extension": ".py",
   "mimetype": "text/x-python",
   "name": "python",
   "nbconvert_exporter": "python",
   "pygments_lexer": "ipython3",
   "version": "3.8.3"
  }
 },
 "nbformat": 4,
 "nbformat_minor": 4
}
