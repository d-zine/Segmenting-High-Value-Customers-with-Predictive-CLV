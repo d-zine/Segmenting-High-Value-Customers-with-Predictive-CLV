{
 "cells": [
  {
   "cell_type": "code",
   "execution_count": 1,
   "metadata": {},
   "outputs": [],
   "source": [
    "#What time of day do people typically spend more?\n",
    "import json\n",
    "import pandas as pd\n",
    "import seaborn as sns\n",
    "import matplotlib.pyplot as plt\n",
    "import matplotlib.ticker as ticker\n",
    "from matplotlib.ticker import ScalarFormatter, FormatStrFormatter,StrMethodFormatter\n",
    "from matplotlib.ticker import FormatStrFormatter\n",
    "import numpy as np\n",
    "from sklearn.preprocessing import MultiLabelBinarizer\n",
    "from sklearn.model_selection import train_test_split\n",
    "from sklearn.cluster import KMeans\n",
    "import warnings\n",
    "from pandas.core.common import SettingWithCopyWarning"
   ]
  },
  {
   "cell_type": "code",
   "execution_count": 2,
   "metadata": {},
   "outputs": [],
   "source": [
    "portfolio = pd.read_json(r'C:\\Desktop\\portfolio.json', orient='records', lines=True)\n",
    "profile = pd.read_json(r'C:\\Desktop\\profile.json', orient='records', lines=True)\n",
    "transcript = pd.read_json(r'C:\\Desktop\\transcript.json', orient='records', lines=True)"
   ]
  },
  {
   "cell_type": "code",
   "execution_count": 3,
   "metadata": {},
   "outputs": [],
   "source": [
    "df=pd.DataFrame(transcript['value'].values.tolist(),index=transcript.index)"
   ]
  },
  {
   "cell_type": "code",
   "execution_count": 4,
   "metadata": {},
   "outputs": [],
   "source": [
    "transcript=transcript.merge(df,left_index=True, right_index=True)"
   ]
  },
  {
   "cell_type": "code",
   "execution_count": 5,
   "metadata": {},
   "outputs": [],
   "source": [
    "#one hot encode channels\n",
    "mlb = MultiLabelBinarizer()\n",
    "channel = pd.DataFrame(mlb.fit_transform(portfolio['channels']),columns=mlb.classes_, index=portfolio.index)"
   ]
  },
  {
   "cell_type": "code",
   "execution_count": 6,
   "metadata": {},
   "outputs": [],
   "source": [
    "#add column called week\n",
    "#event=transaction has an amount.\n",
    "order_events = transcript[transcript['event'].isin(['transaction'])]\n",
    "pd.set_option('display.max_columns', None)\n",
    "order_events = order_events.copy()\n",
    "order_events['week'] = (order_events['time'] // (24 * 7)) + 1\n",
    "order_events['day'] = order_events['time'] //  (24) + 1 "
   ]
  },
  {
   "cell_type": "code",
   "execution_count": 7,
   "metadata": {},
   "outputs": [
    {
     "data": {
      "text/plain": [
       "array([ 1,  2,  3,  4,  5,  6,  7,  8,  9, 10, 11, 12, 13, 14, 15],\n",
       "      dtype=int64)"
      ]
     },
     "execution_count": 7,
     "metadata": {},
     "output_type": "execute_result"
    }
   ],
   "source": [
    "order_events_day1to15 = order_events[order_events['day'].between(1, 15)]\n",
    "\n",
    "order_events_day1to15['day'].unique()"
   ]
  },
  {
   "cell_type": "code",
   "execution_count": 8,
   "metadata": {},
   "outputs": [],
   "source": [
    "def get_time_of_day(time):\n",
    "    hour = time % 24\n",
    "\n",
    "    if 0 <= hour < 6:\n",
    "        return 'Night'\n",
    "    elif 6 <= hour < 12:\n",
    "        return 'Morning'\n",
    "    elif 12 <= hour < 18:\n",
    "        return 'Afternoon'\n",
    "    else:\n",
    "        return 'Evening'\n",
    "\n",
    "\n",
    "# Create a new DataFrame to avoid the SettingWithCopyWarning\n",
    "order_events_day1to15_modified = order_events_day1to15.copy()\n",
    "\n",
    "# Apply the get_time_of_day function to create a 'time_of_day' column\n",
    "order_events_day1to15_modified['time_of_day'] = order_events_day1to15['time'].apply(get_time_of_day)\n",
    "\n",
    "# Create a new column 'modified_time' to store the modified time values\n",
    "order_events_day1to15_modified['modified_time'] = order_events_day1to15_modified['time'] % 24"
   ]
  },
  {
   "cell_type": "code",
   "execution_count": 9,
   "metadata": {},
   "outputs": [
    {
     "name": "stdout",
     "output_type": "stream",
     "text": [
      "time_of_day\n",
      "Afternoon    194244.26\n",
      "Evening      193804.86\n",
      "Morning      183794.70\n",
      "Night        185436.20\n",
      "Name: amount, dtype: float64\n"
     ]
    }
   ],
   "source": [
    "# Apply the get_time_of_day function to create a 'time_of_day' column\n",
    "order_events_day1to15 = order_events_day1to15.copy()\n",
    "order_events_day1to15.loc[:, 'time_of_day'] = order_events_day1to15['time'].apply(get_time_of_day)\n",
    "\n",
    "# Group by 'time_of_day' and calculate the sum of transactions\n",
    "sum_transactions = order_events_day1to15.groupby('time_of_day')['amount'].sum()\n",
    "\n",
    "# Print the sum of transactions by time of day\n",
    "print(sum_transactions)"
   ]
  },
  {
   "cell_type": "code",
   "execution_count": 10,
   "metadata": {},
   "outputs": [
    {
     "data": {
      "image/png": "[encoded data removed]",
      "text/plain": [
       "<Figure size 720x432 with 1 Axes>"
      ]
     },
     "metadata": {
      "needs_background": "light"
     },
     "output_type": "display_data"
    }
   ],
   "source": [
    "# Apply the get_time_of_day function to create a 'time_of_day' column\n",
    "order_events_day1to15.loc[:, 'time_of_day'] = order_events_day1to15['time'].apply(get_time_of_day)\n",
    "\n",
    "# Calculate the total amount\n",
    "total_amount = order_events_day1to15['amount'].sum()\n",
    "\n",
    "# Group by 'time_of_day' and calculate the sum of amounts\n",
    "sum_amounts = order_events_day1to15.groupby('time_of_day')['amount'].sum()\n",
    "\n",
    "# Calculate the percentage contribution of each time of day\n",
    "percentage_contribution = round((sum_amounts / total_amount) * 100, 1)\n",
    "\n",
    "# Sort the percentage contributions in descending order\n",
    "percentage_contribution_sorted = percentage_contribution[['Morning','Afternoon','Evening','Night']]\n",
    "\n",
    "\n",
    "# Plot the line graph\n",
    "plt.figure(figsize=(10, 6))\n",
    "sns.lineplot(x=percentage_contribution_sorted.index, y=percentage_contribution_sorted.values)\n",
    "plt.xlabel('Time of Day')\n",
    "plt.ylabel('Percentage Contribution')\n",
    "plt.title('When do people typically spend more at Starbucks')\n",
    "plt.xticks(rotation=45)\n",
    "plt.ylim(20, 26)\n",
    "\n",
    "# Customize the y-axis ticks\n",
    "plt.yticks([20, 20.25, 20.5, 20.75, 21, 21.25, 21.5, 21.75, 22, 22.25, 22.5, 22.75, 23, 23.25, 23.5, 23.75, 24, 24.25, 24.5, 24.75, 25, 25.25, 25.5, 25.75, 26])\n",
    "\n",
    "plt.show()\n"
   ]
  }
 ],
 "metadata": {
  "kernelspec": {
   "display_name": "Python 3",
   "language": "python",
   "name": "python3"
  },
  "language_info": {
   "codemirror_mode": {
    "name": "ipython",
    "version": 3
   },
   "file_extension": ".py",
   "mimetype": "text/x-python",
   "name": "python",
   "nbconvert_exporter": "python",
   "pygments_lexer": "ipython3",
   "version": "3.8.3"
  }
 },
 "nbformat": 4,
 "nbformat_minor": 4
}
