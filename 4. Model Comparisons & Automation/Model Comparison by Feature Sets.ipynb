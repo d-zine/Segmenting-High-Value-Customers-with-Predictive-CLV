{
 "cells": [
  {
   "cell_type": "markdown",
   "id": "590e9fbd",
   "metadata": {},
   "source": [
    "##### AOV and feature sets by channel are dropped upfront because they are derived from other columns to reduce multicollinearity."
   ]
  },
  {
   "cell_type": "code",
   "execution_count": 1,
   "id": "96e9f3ee",
   "metadata": {},
   "outputs": [
    {
     "name": "stderr",
     "output_type": "stream",
     "text": [
      "Processing models:   0%|                                                                        | 0/12 [00:00<?, ?it/s]"
     ]
    },
    {
     "name": "stdout",
     "output_type": "stream",
     "text": [
      "LGBM - Feature Set: full dataset - MAE: 36.32\n",
      "LGBM - Feature Set: selected_features_15 - MAE: 36.50\n",
      "LGBM - Feature Set: selected_features_10 - MAE: 37.03\n",
      "LGBM - Feature Set: selected_features_5 - MAE: 36.69\n"
     ]
    },
    {
     "name": "stderr",
     "output_type": "stream",
     "text": [
      "Processing models:  17%|██████████▋                                                     | 2/12 [00:00<00:05,  1.73it/s]"
     ]
    },
    {
     "name": "stdout",
     "output_type": "stream",
     "text": [
      "LGBM - Feature Set: selected_features_1 - MAE: 39.59\n",
      "MLR - Feature Set: full dataset - MAE: 39.73\n",
      "MLR - Feature Set: selected_features_15 - MAE: 39.74\n",
      "MLR - Feature Set: selected_features_10 - MAE: 41.61\n",
      "MLR - Feature Set: selected_features_5 - MAE: 45.12\n",
      "MLR - Feature Set: selected_features_1 - MAE: 45.91\n",
      "Ridge - Feature Set: full dataset - MAE: 39.72\n",
      "Ridge - Feature Set: selected_features_15 - MAE: 39.74\n",
      "Ridge - Feature Set: selected_features_10 - MAE: 41.61\n",
      "Ridge - Feature Set: selected_features_5 - MAE: 45.12\n",
      "Ridge - Feature Set: selected_features_1 - MAE: 45.91\n"
     ]
    },
    {
     "name": "stderr",
     "output_type": "stream",
     "text": [
      "Processing models:  33%|█████████████████████▎                                          | 4/12 [00:01<00:03,  2.09it/s]"
     ]
    },
    {
     "name": "stdout",
     "output_type": "stream",
     "text": [
      "Lasso - Feature Set: full dataset - MAE: 40.38\n",
      "Lasso - Feature Set: selected_features_15 - MAE: 40.42\n",
      "Lasso - Feature Set: selected_features_10 - MAE: 41.88\n",
      "Lasso - Feature Set: selected_features_5 - MAE: 45.16\n",
      "Lasso - Feature Set: selected_features_1 - MAE: 45.92\n"
     ]
    },
    {
     "name": "stderr",
     "output_type": "stream",
     "text": [
      "Processing models:  42%|██████████████████████████▋                                     | 5/12 [00:01<00:02,  2.49it/s]"
     ]
    },
    {
     "name": "stdout",
     "output_type": "stream",
     "text": [
      "ElasticNet - Feature Set: full dataset - MAE: 42.47\n",
      "ElasticNet - Feature Set: selected_features_15 - MAE: 42.59\n",
      "ElasticNet - Feature Set: selected_features_10 - MAE: 43.07\n",
      "ElasticNet - Feature Set: selected_features_5 - MAE: 45.26\n",
      "ElasticNet - Feature Set: selected_features_1 - MAE: 45.92\n",
      "DecisionTree - Feature Set: full dataset - MAE: 36.58\n"
     ]
    },
    {
     "name": "stderr",
     "output_type": "stream",
     "text": [
      "Processing models:  50%|████████████████████████████████                                | 6/12 [00:01<00:02,  2.98it/s]"
     ]
    },
    {
     "name": "stdout",
     "output_type": "stream",
     "text": [
      "DecisionTree - Feature Set: selected_features_15 - MAE: 36.88\n",
      "DecisionTree - Feature Set: selected_features_10 - MAE: 36.84\n",
      "DecisionTree - Feature Set: selected_features_5 - MAE: 36.77\n",
      "DecisionTree - Feature Set: selected_features_1 - MAE: 39.27\n",
      "RandomForest - Feature Set: full dataset - MAE: 39.17\n",
      "RandomForest - Feature Set: selected_features_15 - MAE: 39.93\n",
      "RandomForest - Feature Set: selected_features_10 - MAE: 40.55\n",
      "RandomForest - Feature Set: selected_features_5 - MAE: 41.17\n"
     ]
    },
    {
     "name": "stderr",
     "output_type": "stream",
     "text": [
      "Processing models:  58%|█████████████████████████████████████▎                          | 7/12 [00:28<00:41,  8.39s/it]"
     ]
    },
    {
     "name": "stdout",
     "output_type": "stream",
     "text": [
      "RandomForest - Feature Set: selected_features_1 - MAE: 47.02\n",
      "XGBoost - Feature Set: full dataset - MAE: 38.65\n",
      "XGBoost - Feature Set: selected_features_15 - MAE: 39.21\n",
      "XGBoost - Feature Set: selected_features_10 - MAE: 39.15\n",
      "XGBoost - Feature Set: selected_features_5 - MAE: 39.00\n"
     ]
    },
    {
     "name": "stderr",
     "output_type": "stream",
     "text": [
      "Processing models:  67%|██████████████████████████████████████████▋                     | 8/12 [00:32<00:27,  6.81s/it]"
     ]
    },
    {
     "name": "stdout",
     "output_type": "stream",
     "text": [
      "XGBoost - Feature Set: selected_features_1 - MAE: 41.31\n",
      "MLP - Feature Set: full dataset - MAE: 37.73\n",
      "MLP - Feature Set: selected_features_15 - MAE: 41.88\n",
      "MLP - Feature Set: selected_features_10 - MAE: 40.80\n",
      "MLP - Feature Set: selected_features_5 - MAE: 36.42\n"
     ]
    },
    {
     "name": "stderr",
     "output_type": "stream",
     "text": [
      "Processing models:  75%|████████████████████████████████████████████████                | 9/12 [00:56<00:36, 12.16s/it]"
     ]
    },
    {
     "name": "stdout",
     "output_type": "stream",
     "text": [
      "MLP - Feature Set: selected_features_1 - MAE: 39.06\n",
      "SVR - Feature Set: full dataset - MAE: 44.80\n",
      "SVR - Feature Set: selected_features_15 - MAE: 44.76\n",
      "SVR - Feature Set: selected_features_10 - MAE: 44.70\n",
      "SVR - Feature Set: selected_features_5 - MAE: 44.44\n"
     ]
    },
    {
     "name": "stderr",
     "output_type": "stream",
     "text": [
      "Processing models:  83%|████████████████████████████████████████████████████▌          | 10/12 [01:58<00:54, 27.04s/it]"
     ]
    },
    {
     "name": "stdout",
     "output_type": "stream",
     "text": [
      "SVR - Feature Set: selected_features_1 - MAE: 35.96\n",
      "Stacked - Feature Set: full dataset - MAE: 38.49\n",
      "Stacked - Feature Set: selected_features_15 - MAE: 38.52\n",
      "Stacked - Feature Set: selected_features_10 - MAE: 39.68\n",
      "Stacked - Feature Set: selected_features_5 - MAE: 40.41\n"
     ]
    },
    {
     "name": "stderr",
     "output_type": "stream",
     "text": [
      "Processing models:  92%|█████████████████████████████████████████████████████████▊     | 11/12 [04:43<01:08, 68.55s/it]"
     ]
    },
    {
     "name": "stdout",
     "output_type": "stream",
     "text": [
      "Stacked - Feature Set: selected_features_1 - MAE: 43.68\n",
      "KernelRidge - Feature Set: full dataset - MAE: 40.02\n",
      "KernelRidge - Feature Set: selected_features_15 - MAE: 40.05\n",
      "KernelRidge - Feature Set: selected_features_10 - MAE: 42.22\n",
      "KernelRidge - Feature Set: selected_features_5 - MAE: 45.79\n"
     ]
    },
    {
     "name": "stderr",
     "output_type": "stream",
     "text": [
      "Processing models: 100%|███████████████████████████████████████████████████████████████| 12/12 [05:52<00:00, 29.35s/it]"
     ]
    },
    {
     "name": "stdout",
     "output_type": "stream",
     "text": [
      "KernelRidge - Feature Set: selected_features_1 - MAE: 43.39\n"
     ]
    },
    {
     "name": "stderr",
     "output_type": "stream",
     "text": [
      "\n"
     ]
    },
    {
     "data": {
      "image/png": "[encoded data removed]",
      "text/plain": [
       "<Figure size 1008x720 with 1 Axes>"
      ]
     },
     "metadata": {
      "needs_background": "light"
     },
     "output_type": "display_data"
    },
    {
     "name": "stdout",
     "output_type": "stream",
     "text": [
      "Best performing model based on minimizing MAE for selected_features_1: SVR (MAE: 35.96)\n",
      "Best performing model based on minimizing MAE for selected_features_5: MLP (MAE: 36.42)\n",
      "Best performing model based on minimizing MAE for selected_features_10: DecisionTree (MAE: 36.84)\n",
      "Best performing model based on minimizing MAE for selected_features_15: LGBM (MAE: 36.50)\n",
      "Best performing model based on minimizing MAE for full dataset: LGBM (MAE: 36.32)\n"
     ]
    }
   ],
   "source": [
    "import pandas as pd\n",
    "import numpy as np\n",
    "from sklearn.model_selection import train_test_split, KFold\n",
    "from lightgbm import LGBMRegressor\n",
    "from tqdm import tqdm\n",
    "import matplotlib.pyplot as plt\n",
    "from sklearn.metrics import mean_absolute_error\n",
    "from sklearn.linear_model import LinearRegression, Ridge, Lasso, ElasticNet\n",
    "from sklearn.tree import DecisionTreeRegressor\n",
    "from sklearn.ensemble import RandomForestRegressor\n",
    "from xgboost import XGBRegressor\n",
    "from sklearn.neural_network import MLPRegressor\n",
    "from sklearn.svm import SVR\n",
    "from sklearn.kernel_ridge import KernelRidge\n",
    "from sklearn.ensemble import StackingRegressor\n",
    "from sklearn.linear_model import RidgeCV, LassoCV\n",
    "\n",
    "# Load the data\n",
    "imputed_data = pd.read_csv(\"sbux_clv_drop_AOV_and_completed_offers_across_channels_with_dummies.csv\")\n",
    "\n",
    "# Prepare the data\n",
    "X = imputed_data[['MemberSince',\n",
    "       'Recency (# Days ago from last trans. As of final day up to Day 15)',\n",
    "       'Frequency (# Trans. from Day 1-15)',\n",
    "       'Monetary Value (Sum of Trans. from Day 1-15)',\n",
    "       '# of Marketing offers that Starbucks sent to each customer from Day 1-15',\n",
    "       '# of Marketing offers that were viewed from Day 1-15',\n",
    "       '# of Marketing offers that were successfully completed from Day 1-15',\n",
    "       'Marketing Offer View Rate from Day 1-15',\n",
    "       'Marketing Offer Response Rate from Day 1-15',\n",
    "       'Age_18-34', 'Age_35-50', 'Age_51-67',\n",
    "       'Age_68-84', 'Age_85-101', 'Gender_F', 'Gender_M',\n",
    "       'Gender_O', 'HH Income_100k-120k',\n",
    "       'HH Income_30k-50k', 'HH Income_50k-75k', 'HH Income_75k-100k']]\n",
    "\n",
    "y = imputed_data['Sum(Trans. Amt from Day 16-30)']\n",
    "\n",
    "# Define base estimators to be used in the ensemble\n",
    "base_estimators = [('rf', RandomForestRegressor()),\n",
    "                   ('xgb', XGBRegressor()),\n",
    "                   ('dt', DecisionTreeRegressor())]\n",
    "\n",
    "# Define a final estimator to combine the predictions of the base estimators\n",
    "final_estimator = StackingRegressor(estimators=[('ridge', RidgeCV()),\n",
    "                                                 ('lasso', LassoCV())])\n",
    "\n",
    "# Define the models\n",
    "models = {\n",
    "    'LGBM': LGBMRegressor(),\n",
    "    'MLR' : LinearRegression(),\n",
    "    'Ridge' : Ridge(),\n",
    "    'Lasso' : Lasso(),\n",
    "    'ElasticNet' : ElasticNet(),\n",
    "    'DecisionTree' : DecisionTreeRegressor(max_depth=6),\n",
    "    'RandomForest' : RandomForestRegressor(),\n",
    "    'XGBoost': XGBRegressor(),\n",
    "    'MLP':  MLPRegressor(),\n",
    "    'SVR': SVR(),\n",
    "    'Stacked': StackingRegressor(estimators=base_estimators, final_estimator=final_estimator),\n",
    "    'KernelRidge': KernelRidge()\n",
    "}\n",
    "\n",
    "# Define cross-validation strategy\n",
    "cv = KFold(n_splits=5, shuffle=True)\n",
    "\n",
    "# Define feature sets\n",
    "feature_sets = {\n",
    "    \"full dataset\": X.columns.to_list(),\n",
    "    'selected_features_15': None,  # Replace None with actual feature list\n",
    "    'selected_features_10': None,  # Replace None with actual feature list\n",
    "    'selected_features_5': None,  # Replace None with actual feature list\n",
    "    'selected_features_1': None  # Replace None with actual feature list\n",
    "}\n",
    "\n",
    "# Define a dictionary to store prediction results\n",
    "pred_dict = {\n",
    "    \"models\": [],\n",
    "    \"feature_set\": [],\n",
    "    \"MAE\": []\n",
    "}\n",
    "\n",
    "# Define the make_regression function\n",
    "def make_regression(X_train, y_train, X_test, y_test, model, model_name, feature_set_name, verbose=False):\n",
    "    model.fit(X_train, y_train)\n",
    "    y_pred = model.predict(X_test)\n",
    "    mae = mean_absolute_error(y_test, y_pred)\n",
    "    if verbose:\n",
    "        print(f\"{model_name} - Feature Set: {feature_set_name} - MAE: {mae:.2f}\")\n",
    "    return mae\n",
    "\n",
    "# Split the data into train and test sets\n",
    "X_train, X_test, y_train, y_test = train_test_split(X, y, test_size=0.3, random_state=42)\n",
    "\n",
    "# Calculate feature importances using LGBMRegressor\n",
    "lgbm = LGBMRegressor()\n",
    "lgbm.fit(X, y)\n",
    "importances = pd.Series(lgbm.feature_importances_, index=X.columns).sort_values(ascending=False)\n",
    "\n",
    "# Update feature_sets with actual feature lists based on importances\n",
    "feature_sets['selected_features_15'] = importances[:15].index.tolist()\n",
    "feature_sets['selected_features_10'] = importances[:10].index.tolist()\n",
    "feature_sets['selected_features_5'] = importances[:5].index.tolist()\n",
    "feature_sets['selected_features_1'] = importances[:1].index.tolist()\n",
    "\n",
    "# Evaluate models with different feature sets\n",
    "for model_name, model in tqdm(models.items(), desc=\"Processing models\"):\n",
    "    for feature_set_name, features in feature_sets.items():\n",
    "        X_train_subset = X_train[features]\n",
    "        X_test_subset = X_test[features]\n",
    "        mae = make_regression(X_train_subset, y_train, X_test_subset, y_test, model, model_name, feature_set_name, verbose=True)\n",
    "        pred_dict[\"models\"].append(model_name)\n",
    "        pred_dict[\"feature_set\"].append(feature_set_name)\n",
    "        pred_dict[\"MAE\"].append(mae)\n",
    "\n",
    "# Create a DataFrame from the prediction dictionary\n",
    "pred_df = pd.DataFrame(pred_dict)\n",
    "\n",
    "# Pivot the DataFrame to reshape it for bar chart format\n",
    "df_barh = pred_df.pivot(index='feature_set', columns='models', values='MAE')\n",
    "\n",
    "# Sort the DataFrame by the minimum MAE value in each row\n",
    "df_barh = df_barh.loc[df_barh.min(axis=1).sort_values().index]\n",
    "\n",
    "# Define the order of feature sets in the bar chart\n",
    "feature_set_order = ['selected_features_1', 'selected_features_5', 'selected_features_10', 'selected_features_15', 'full dataset']\n",
    "\n",
    "# Reorder the DataFrame based on the feature_set_order\n",
    "df_barh = df_barh.reindex(feature_set_order)\n",
    "\n",
    "# Create a figure\n",
    "fig, ax = plt.subplots(figsize=(14, 10))\n",
    "\n",
    "# Plot the bar chart without legend\n",
    "df_barh.plot(kind='barh', ax=ax)\n",
    "\n",
    "# Set title and labels\n",
    "ax.set_title('Model Performance by Feature Set', fontsize=16)\n",
    "ax.set_xlabel('Mean Absolute Error (MAE)', fontsize=12)\n",
    "ax.set_ylabel('Feature Set', fontsize=12)\n",
    "\n",
    "# Update x and y tick labels\n",
    "ax.tick_params(axis='x', labelsize=10, labelrotation=0)\n",
    "ax.tick_params(axis='y', labelsize=10, labelrotation=0)\n",
    "\n",
    "# Set y-tick locations manually\n",
    "ax.set_yticks(range(len(df_barh.index)))\n",
    "\n",
    "# Set y-tick labels manually\n",
    "ax.set_yticklabels(df_barh.index)\n",
    "\n",
    "# Add legend\n",
    "ax.legend(title='Model', loc='upper right', bbox_to_anchor=(1.3, 1))\n",
    "\n",
    "# Show the figure\n",
    "plt.tight_layout()\n",
    "plt.show()\n",
    "\n",
    "# Get best performing model for each feature set\n",
    "best_models = df_barh.idxmin(axis=1)\n",
    "\n",
    "# Get MAE of best performing model for each feature set\n",
    "best_mae = df_barh.min(axis=1)\n",
    "\n",
    "# Print results\n",
    "for feature_set in feature_set_order:\n",
    "    i = df_barh.index.get_loc(feature_set)\n",
    "    print(f'Best performing model based on minimizing MAE for {feature_set}: {best_models[i]} (MAE: {best_mae[i]:.2f})')\n"
   ]
  }
 ],
 "metadata": {
  "kernelspec": {
   "display_name": "Python 3",
   "language": "python",
   "name": "python3"
  },
  "language_info": {
   "codemirror_mode": {
    "name": "ipython",
    "version": 3
   },
   "file_extension": ".py",
   "mimetype": "text/x-python",
   "name": "python",
   "nbconvert_exporter": "python",
   "pygments_lexer": "ipython3",
   "version": "3.8.3"
  }
 },
 "nbformat": 4,
 "nbformat_minor": 5
}
